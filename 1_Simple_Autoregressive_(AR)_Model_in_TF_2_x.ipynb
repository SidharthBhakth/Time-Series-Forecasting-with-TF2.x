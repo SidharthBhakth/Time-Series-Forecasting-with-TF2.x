{
  "nbformat": 4,
  "nbformat_minor": 0,
  "metadata": {
    "colab": {
      "name": "1. Simple Autoregressive (AR) Model in TF 2.x.ipynb",
      "provenance": [],
      "collapsed_sections": [],
      "authorship_tag": "ABX9TyPD/mMi8Cun+hSj0J9u7GDz",
      "include_colab_link": true
    },
    "kernelspec": {
      "name": "python3",
      "display_name": "Python 3"
    }
  },
  "cells": [
    {
      "cell_type": "markdown",
      "metadata": {
        "id": "view-in-github",
        "colab_type": "text"
      },
      "source": [
        "<a href=\"https://colab.research.google.com/github/SidharthBhakth/Time-Series-Forecasting-with-TF2.x/blob/master/1_Simple_Autoregressive_(AR)_Model_in_TF_2_x.ipynb\" target=\"_parent\"><img src=\"https://colab.research.google.com/assets/colab-badge.svg\" alt=\"Open In Colab\"/></a>"
      ]
    },
    {
      "cell_type": "markdown",
      "metadata": {
        "id": "Qes8ZRhpXK1F",
        "colab_type": "text"
      },
      "source": [
        "# Simple Autoregressive (AR) Model in TF 2.x\n",
        "\n",
        "Forecast a noisy sin wave with an autoregressive model using 10 lagged observations "
      ]
    },
    {
      "cell_type": "code",
      "metadata": {
        "id": "A4Ra8u98VD3P",
        "colab_type": "code",
        "colab": {}
      },
      "source": [
        "import numpy as np\n",
        "\n",
        "import matplotlib.pyplot as plt\n",
        "\n",
        "from tensorflow.keras.layers import Input, Dense\n",
        "from tensorflow.keras.models import Model\n",
        "from tensorflow.keras.optimizers import SGD, Adam"
      ],
      "execution_count": 0,
      "outputs": []
    },
    {
      "cell_type": "code",
      "metadata": {
        "id": "8P3XyW-yYqhB",
        "colab_type": "code",
        "colab": {
          "base_uri": "https://localhost:8080/",
          "height": 265
        },
        "outputId": "67a0bf3d-a4e4-4343-c966-da3c1b6b1a03"
      },
      "source": [
        "# Create a noisy sin wave\n",
        "series = np.sin(0.1*np.arange(200)) + (np.random.randn(200)*0.1)\n",
        "\n",
        "plt.plot(series)\n",
        "plt.show()"
      ],
      "execution_count": 2,
      "outputs": [
        {
          "output_type": "display_data",
          "data": {
            "image/png": "[encoded data removed]",
            "text/plain": [
              "<Figure size 432x288 with 1 Axes>"
            ]
          },
          "metadata": {
            "tags": [],
            "needs_background": "light"
          }
        }
      ]
    },
    {
      "cell_type": "code",
      "metadata": {
        "id": "XEhxQaV_ZKmZ",
        "colab_type": "code",
        "colab": {
          "base_uri": "https://localhost:8080/",
          "height": 34
        },
        "outputId": "2cfe93c2-eaae-4dc0-cfac-44f048a1f694"
      },
      "source": [
        "# Build dataset to use 10 lagged observations to predict the next observation\n",
        "\n",
        "X, y = [], []\n",
        "\n",
        "for t in range(len(series)-10):\n",
        "  X.append(series[t:t+10])\n",
        "  y.append(series[t+10])\n",
        "\n",
        "X = np.array(X).reshape(-1, 10)\n",
        "y = np.array(y)\n",
        "\n",
        "# No of samples\n",
        "N = len(X)\n",
        "\n",
        "print(X.shape, y.shape)"
      ],
      "execution_count": 3,
      "outputs": [
        {
          "output_type": "stream",
          "text": [
            "(190, 10) (190,)\n"
          ],
          "name": "stdout"
        }
      ]
    },
    {
      "cell_type": "code",
      "metadata": {
        "id": "VuH5N7q1TWkU",
        "colab_type": "code",
        "colab": {}
      },
      "source": [
        "# Build autoregressive linear model\n",
        "i = Input(shape=X[0].shape)\n",
        "x = Dense(1)(i)\n",
        "\n",
        "model = Model(i, x)\n",
        "\n",
        "# Compile\n",
        "model.compile(optimizer=Adam(lr=0.1), loss='mse')"
      ],
      "execution_count": 0,
      "outputs": []
    },
    {
      "cell_type": "code",
      "metadata": {
        "id": "ndl9G9HUTpB7",
        "colab_type": "code",
        "colab": {
          "base_uri": "https://localhost:8080/",
          "height": 1000
        },
        "outputId": "0ffb51c3-c4b4-4e9a-f0b7-0fa9bb20f6ac"
      },
      "source": [
        "# Train the model\n",
        "r = model.fit(X[:-N//2], y[:-N//2], validation_data=(X[-N//2:], y[-N//2:]), epochs=80, verbose=2)"
      ],
      "execution_count": 5,
      "outputs": [
        {
          "output_type": "stream",
          "text": [
            "Epoch 1/80\n",
            "3/3 - 0s - loss: 7.9005 - val_loss: 2.5853\n",
            "Epoch 2/80\n",
            "3/3 - 0s - loss: 0.9147 - val_loss: 0.1841\n",
            "Epoch 3/80\n",
            "3/3 - 0s - loss: 0.7397 - val_loss: 1.3236\n",
            "Epoch 4/80\n",
            "3/3 - 0s - loss: 1.7947 - val_loss: 1.4242\n",
            "Epoch 5/80\n",
            "3/3 - 0s - loss: 1.2679 - val_loss: 0.5150\n",
            "Epoch 6/80\n",
            "3/3 - 0s - loss: 0.2794 - val_loss: 0.0408\n",
            "Epoch 7/80\n",
            "3/3 - 0s - loss: 0.1028 - val_loss: 0.2432\n",
            "Epoch 8/80\n",
            "3/3 - 0s - loss: 0.4279 - val_loss: 0.3784\n",
            "Epoch 9/80\n",
            "3/3 - 0s - loss: 0.4346 - val_loss: 0.1775\n",
            "Epoch 10/80\n",
            "3/3 - 0s - loss: 0.1473 - val_loss: 0.0289\n",
            "Epoch 11/80\n",
            "3/3 - 0s - loss: 0.0274 - val_loss: 0.0924\n",
            "Epoch 12/80\n",
            "3/3 - 0s - loss: 0.1100 - val_loss: 0.1442\n",
            "Epoch 13/80\n",
            "3/3 - 0s - loss: 0.1336 - val_loss: 0.0758\n",
            "Epoch 14/80\n",
            "3/3 - 0s - loss: 0.0554 - val_loss: 0.0231\n",
            "Epoch 15/80\n",
            "3/3 - 0s - loss: 0.0214 - val_loss: 0.0484\n",
            "Epoch 16/80\n",
            "3/3 - 0s - loss: 0.0469 - val_loss: 0.0641\n",
            "Epoch 17/80\n",
            "3/3 - 0s - loss: 0.0493 - val_loss: 0.0371\n",
            "Epoch 18/80\n",
            "3/3 - 0s - loss: 0.0233 - val_loss: 0.0211\n",
            "Epoch 19/80\n",
            "3/3 - 0s - loss: 0.0191 - val_loss: 0.0309\n",
            "Epoch 20/80\n",
            "3/3 - 0s - loss: 0.0278 - val_loss: 0.0324\n",
            "Epoch 21/80\n",
            "3/3 - 0s - loss: 0.0238 - val_loss: 0.0227\n",
            "Epoch 22/80\n",
            "3/3 - 0s - loss: 0.0161 - val_loss: 0.0216\n",
            "Epoch 23/80\n",
            "3/3 - 0s - loss: 0.0185 - val_loss: 0.0240\n",
            "Epoch 24/80\n",
            "3/3 - 0s - loss: 0.0194 - val_loss: 0.0220\n",
            "Epoch 25/80\n",
            "3/3 - 0s - loss: 0.0165 - val_loss: 0.0207\n",
            "Epoch 26/80\n",
            "3/3 - 0s - loss: 0.0165 - val_loss: 0.0221\n",
            "Epoch 27/80\n",
            "3/3 - 0s - loss: 0.0171 - val_loss: 0.0213\n",
            "Epoch 28/80\n",
            "3/3 - 0s - loss: 0.0161 - val_loss: 0.0205\n",
            "Epoch 29/80\n",
            "3/3 - 0s - loss: 0.0156 - val_loss: 0.0207\n",
            "Epoch 30/80\n",
            "3/3 - 0s - loss: 0.0159 - val_loss: 0.0207\n",
            "Epoch 31/80\n",
            "3/3 - 0s - loss: 0.0157 - val_loss: 0.0203\n",
            "Epoch 32/80\n",
            "3/3 - 0s - loss: 0.0153 - val_loss: 0.0204\n",
            "Epoch 33/80\n",
            "3/3 - 0s - loss: 0.0154 - val_loss: 0.0203\n",
            "Epoch 34/80\n",
            "3/3 - 0s - loss: 0.0153 - val_loss: 0.0202\n",
            "Epoch 35/80\n",
            "3/3 - 0s - loss: 0.0151 - val_loss: 0.0201\n",
            "Epoch 36/80\n",
            "3/3 - 0s - loss: 0.0152 - val_loss: 0.0201\n",
            "Epoch 37/80\n",
            "3/3 - 0s - loss: 0.0151 - val_loss: 0.0200\n",
            "Epoch 38/80\n",
            "3/3 - 0s - loss: 0.0149 - val_loss: 0.0199\n",
            "Epoch 39/80\n",
            "3/3 - 0s - loss: 0.0150 - val_loss: 0.0200\n",
            "Epoch 40/80\n",
            "3/3 - 0s - loss: 0.0149 - val_loss: 0.0199\n",
            "Epoch 41/80\n",
            "3/3 - 0s - loss: 0.0148 - val_loss: 0.0198\n",
            "Epoch 42/80\n",
            "3/3 - 0s - loss: 0.0148 - val_loss: 0.0197\n",
            "Epoch 43/80\n",
            "3/3 - 0s - loss: 0.0147 - val_loss: 0.0197\n",
            "Epoch 44/80\n",
            "3/3 - 0s - loss: 0.0147 - val_loss: 0.0197\n",
            "Epoch 45/80\n",
            "3/3 - 0s - loss: 0.0146 - val_loss: 0.0196\n",
            "Epoch 46/80\n",
            "3/3 - 0s - loss: 0.0146 - val_loss: 0.0195\n",
            "Epoch 47/80\n",
            "3/3 - 0s - loss: 0.0146 - val_loss: 0.0195\n",
            "Epoch 48/80\n",
            "3/3 - 0s - loss: 0.0145 - val_loss: 0.0194\n",
            "Epoch 49/80\n",
            "3/3 - 0s - loss: 0.0145 - val_loss: 0.0194\n",
            "Epoch 50/80\n",
            "3/3 - 0s - loss: 0.0144 - val_loss: 0.0193\n",
            "Epoch 51/80\n",
            "3/3 - 0s - loss: 0.0143 - val_loss: 0.0193\n",
            "Epoch 52/80\n",
            "3/3 - 0s - loss: 0.0143 - val_loss: 0.0192\n",
            "Epoch 53/80\n",
            "3/3 - 0s - loss: 0.0142 - val_loss: 0.0191\n",
            "Epoch 54/80\n",
            "3/3 - 0s - loss: 0.0142 - val_loss: 0.0191\n",
            "Epoch 55/80\n",
            "3/3 - 0s - loss: 0.0141 - val_loss: 0.0190\n",
            "Epoch 56/80\n",
            "3/3 - 0s - loss: 0.0141 - val_loss: 0.0190\n",
            "Epoch 57/80\n",
            "3/3 - 0s - loss: 0.0141 - val_loss: 0.0189\n",
            "Epoch 58/80\n",
            "3/3 - 0s - loss: 0.0139 - val_loss: 0.0190\n",
            "Epoch 59/80\n",
            "3/3 - 0s - loss: 0.0139 - val_loss: 0.0188\n",
            "Epoch 60/80\n",
            "3/3 - 0s - loss: 0.0139 - val_loss: 0.0188\n",
            "Epoch 61/80\n",
            "3/3 - 0s - loss: 0.0137 - val_loss: 0.0187\n",
            "Epoch 62/80\n",
            "3/3 - 0s - loss: 0.0138 - val_loss: 0.0187\n",
            "Epoch 63/80\n",
            "3/3 - 0s - loss: 0.0138 - val_loss: 0.0187\n",
            "Epoch 64/80\n",
            "3/3 - 0s - loss: 0.0136 - val_loss: 0.0186\n",
            "Epoch 65/80\n",
            "3/3 - 0s - loss: 0.0136 - val_loss: 0.0186\n",
            "Epoch 66/80\n",
            "3/3 - 0s - loss: 0.0135 - val_loss: 0.0185\n",
            "Epoch 67/80\n",
            "3/3 - 0s - loss: 0.0135 - val_loss: 0.0185\n",
            "Epoch 68/80\n",
            "3/3 - 0s - loss: 0.0134 - val_loss: 0.0185\n",
            "Epoch 69/80\n",
            "3/3 - 0s - loss: 0.0134 - val_loss: 0.0184\n",
            "Epoch 70/80\n",
            "3/3 - 0s - loss: 0.0135 - val_loss: 0.0184\n",
            "Epoch 71/80\n",
            "3/3 - 0s - loss: 0.0133 - val_loss: 0.0183\n",
            "Epoch 72/80\n",
            "3/3 - 0s - loss: 0.0134 - val_loss: 0.0184\n",
            "Epoch 73/80\n",
            "3/3 - 0s - loss: 0.0132 - val_loss: 0.0182\n",
            "Epoch 74/80\n",
            "3/3 - 0s - loss: 0.0138 - val_loss: 0.0184\n",
            "Epoch 75/80\n",
            "3/3 - 0s - loss: 0.0132 - val_loss: 0.0182\n",
            "Epoch 76/80\n",
            "3/3 - 0s - loss: 0.0134 - val_loss: 0.0183\n",
            "Epoch 77/80\n",
            "3/3 - 0s - loss: 0.0134 - val_loss: 0.0181\n",
            "Epoch 78/80\n",
            "3/3 - 0s - loss: 0.0130 - val_loss: 0.0183\n",
            "Epoch 79/80\n",
            "3/3 - 0s - loss: 0.0132 - val_loss: 0.0182\n",
            "Epoch 80/80\n",
            "3/3 - 0s - loss: 0.0130 - val_loss: 0.0180\n"
          ],
          "name": "stdout"
        }
      ]
    },
    {
      "cell_type": "code",
      "metadata": {
        "id": "a38AORx2XZge",
        "colab_type": "code",
        "colab": {
          "base_uri": "https://localhost:8080/",
          "height": 265
        },
        "outputId": "3f419c71-eeba-4d28-ecb7-0c20a43446b4"
      },
      "source": [
        "# Plot loss curve\n",
        "plt.plot(r.history['loss'], label='loss')\n",
        "plt.plot(r.history['val_loss'], label='val_loss')\n",
        "plt.legend()\n",
        "plt.show()"
      ],
      "execution_count": 6,
      "outputs": [
        {
          "output_type": "display_data",
          "data": {
            "image/png": "[encoded data removed]",
            "text/plain": [
              "<Figure size 432x288 with 1 Axes>"
            ]
          },
          "metadata": {
            "tags": [],
            "needs_background": "light"
          }
        }
      ]
    },
    {
      "cell_type": "code",
      "metadata": {
        "id": "RvzVd3NaYLBY",
        "colab_type": "code",
        "colab": {}
      },
      "source": [
        "# Forecast future predictions using self-predictions\n",
        "y_test = y[-N//2:]\n",
        "y_pred = []\n",
        "\n",
        "# first test input\n",
        "x = X[-N//2] # 1-D array of length 10\n",
        "\n",
        "while len(y_pred) < len(y_test):\n",
        "  p = model.predict(x.reshape(1,-1))[0,0] # 1x1 array (scalar)\n",
        "\n",
        "  # Update predictions list\n",
        "  y_pred.append(p)\n",
        "\n",
        "  # Make new input using prediction\n",
        "  x = np.roll(x, -1)\n",
        "  x[-1] = p"
      ],
      "execution_count": 0,
      "outputs": []
    },
    {
      "cell_type": "code",
      "metadata": {
        "id": "WF4izMfoflNW",
        "colab_type": "code",
        "colab": {
          "base_uri": "https://localhost:8080/",
          "height": 265
        },
        "outputId": "49d6e5c8-f4e9-4559-d36d-c8ac64065a2a"
      },
      "source": [
        "# Plot predicted vs actual output\n",
        "plt.plot(y_test, label='target')\n",
        "plt.plot(y_pred, label='prediction')\n",
        "plt.legend()\n",
        "plt.show()"
      ],
      "execution_count": 8,
      "outputs": [
        {
          "output_type": "display_data",
          "data": {
            "image/png": "[encoded data removed]",
            "text/plain": [
              "<Figure size 432x288 with 1 Axes>"
            ]
          },
          "metadata": {
            "tags": [],
            "needs_background": "light"
          }
        }
      ]
    },
    {
      "cell_type": "markdown",
      "metadata": {
        "id": "go1uiaMynfJC",
        "colab_type": "text"
      },
      "source": [
        "\n",
        "The model is able to learn the periodicty of the sequence but fails to learn the noise.\n",
        "\n"
      ]
    }
  ]
}